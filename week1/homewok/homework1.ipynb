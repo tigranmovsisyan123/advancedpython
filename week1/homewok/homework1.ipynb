{
 "cells": [
  {
   "cell_type": "markdown",
   "metadata": {},
   "source": [
    "# 1 - Տրված list-ից ջնջել տրված արժեքի բոլոր համընկնումները"
   ]
  },
  {
   "cell_type": "code",
   "execution_count": 8,
   "metadata": {},
   "outputs": [
    {
     "name": "stdout",
     "output_type": "stream",
     "text": [
      "[1, 2, 3, 4, 6]\n"
     ]
    }
   ],
   "source": [
    "# remove method\n",
    "\n",
    "\n",
    "list1= [1,2,3,4,5,5,5,6]\n",
    "while 5 in list1:\n",
    "    list1.remove(5)\n",
    "    \n",
    "print(list1)"
   ]
  },
  {
   "cell_type": "code",
   "execution_count": 19,
   "metadata": {},
   "outputs": [
    {
     "name": "stdout",
     "output_type": "stream",
     "text": [
      "[1, 2, 3, 4, 6]\n"
     ]
    }
   ],
   "source": [
    "# list comprehension\n",
    "\n",
    "list1= [1,2,3,4,5,5,5,6]\n",
    "list2 = [x for x in list1 if x != 5]\n",
    "list1 = list2\n",
    "print(list1)"
   ]
  },
  {
   "cell_type": "markdown",
   "metadata": {},
   "source": [
    "# 2 Ջնջել list-i բոլոր կրկնվող էլեմենտները"
   ]
  },
  {
   "cell_type": "code",
   "execution_count": 28,
   "metadata": {},
   "outputs": [
    {
     "name": "stdout",
     "output_type": "stream",
     "text": [
      "[1, 2, 3, 4, 5, 6]\n"
     ]
    }
   ],
   "source": [
    "#for loop\n",
    "\n",
    "list1= [1,2,3,4,5,5,5,6]\n",
    "list2 =[]\n",
    "for x in list1:\n",
    "    if x not in list2:\n",
    "        list2.append(x)\n",
    "list1 = list2\n",
    "print(list1) "
   ]
  },
  {
   "cell_type": "code",
   "execution_count": 27,
   "metadata": {},
   "outputs": [
    {
     "name": "stdout",
     "output_type": "stream",
     "text": [
      "[1, 2, 3, 4, 5, 6]\n"
     ]
    }
   ],
   "source": [
    "# list comprehension (1 line) \n",
    "list1 = [1,2,3,4,5,5,5,6]\n",
    "list2 =[]\n",
    "\n",
    "[list2.append(x) for x in list1 if x not in list2]\n",
    "list1 = list2\n",
    "print(list1)"
   ]
  },
  {
   "cell_type": "code",
   "execution_count": 26,
   "metadata": {},
   "outputs": [
    {
     "name": "stdout",
     "output_type": "stream",
     "text": [
      "[1, 2, 3, 4, 5, 6]\n"
     ]
    }
   ],
   "source": [
    "#Հնարավորինս քիչ սիմվոլ պարունակող լուծում \n",
    "\n",
    "list1 = [1,2,3,4,5,5,5,6]\n",
    "list1 = list(set(list1))\n",
    "print(list1)"
   ]
  },
  {
   "cell_type": "markdown",
   "metadata": {},
   "source": [
    "# 3Ստուգել արդյոք տրված string-ը սիմմետրիկ է թե ոչ"
   ]
  },
  {
   "cell_type": "code",
   "execution_count": 36,
   "metadata": {},
   "outputs": [
    {
     "name": "stdout",
     "output_type": "stream",
     "text": [
      "type your stringbaab\n",
      "true\n"
     ]
    }
   ],
   "source": [
    "#for loop\n",
    "string1 = input(\"type your string\")\n",
    "string2 = \"\"\n",
    "for x in string1:\n",
    "    string2 = x + string2\n",
    "\n",
    "if string2 == string1:\n",
    "    print(\"true\")\n",
    "else:\n",
    "    print(\"false\")"
   ]
  },
  {
   "cell_type": "code",
   "execution_count": null,
   "metadata": {},
   "outputs": [],
   "source": [
    "#մեկ տողով\n",
    "\n",
    "for loop\n",
    "string = input(\"enter your string\")\n",
    "\n",
    "if(string == string[:: - 1]):\n",
    "   print(\"true\")\n",
    "else:\n",
    "   print(\"false\")"
   ]
  },
  {
   "cell_type": "markdown",
   "metadata": {},
   "source": [
    "# 4Հաշվել տրված թվի թվանշանների գումարը "
   ]
  },
  {
   "cell_type": "code",
   "execution_count": 41,
   "metadata": {},
   "outputs": [
    {
     "name": "stdout",
     "output_type": "stream",
     "text": [
      "input your number12\n",
      "3\n"
     ]
    }
   ],
   "source": [
    "# for loop\n",
    "num = input(\"input your number\")\n",
    "summ = 0\n",
    "\n",
    "for x in num:\n",
    "    summ = summ + int(x)\n",
    "print(summ)\n",
    "\n"
   ]
  },
  {
   "cell_type": "code",
   "execution_count": 43,
   "metadata": {},
   "outputs": [
    {
     "name": "stdout",
     "output_type": "stream",
     "text": [
      "input your number123\n",
      "6\n"
     ]
    }
   ],
   "source": [
    "#Հնարավորինս քիչ սիմվոլ պարունակող լուծում\n",
    "x=input(\"input your number\")\n",
    "print(sum(map(int,str(x))))"
   ]
  },
  {
   "cell_type": "markdown",
   "metadata": {},
   "source": [
    "#  5 Հաշվել տրված թվի թվանշանների գումարը երկուական ներկայացման մեջ\n"
   ]
  },
  {
   "cell_type": "code",
   "execution_count": 2,
   "metadata": {},
   "outputs": [
    {
     "name": "stdout",
     "output_type": "stream",
     "text": [
      "16\n",
      "1\n"
     ]
    }
   ],
   "source": [
    "number= int(input())\n",
    "sum_1 = 0\n",
    "while number!=0:\n",
    "    if number % 2 == 1:\n",
    "        sum_1+=1\n",
    "    number//=2\n",
    "print(sum_1)"
   ]
  },
  {
   "cell_type": "markdown",
   "metadata": {},
   "source": [
    "# 6 Հաշվել տրված թվերի ամենամեծ ընդհանուր բաժանարարը՝ օգտագործելով ռեկուռսիա\n"
   ]
  },
  {
   "cell_type": "code",
   "execution_count": 58,
   "metadata": {},
   "outputs": [
    {
     "name": "stdout",
     "output_type": "stream",
     "text": [
      " Please Enter the First Value  Num1 : 10\n",
      " Please Enter the Second Value Num2 : 5\n",
      "5\n"
     ]
    }
   ],
   "source": [
    "\n",
    "def findgcd(num1, num2):\n",
    "    if(num2 == 0):\n",
    "        return num1;\n",
    "    else:\n",
    "        return findgcd(num2, num1 % num2)\n",
    "    \n",
    "num1 = int(input(\" Please Enter the First Value  Num1 : \"))\n",
    "num2 = int(input(\" Please Enter the Second Value Num2 : \"))\n",
    "\n",
    "gcd = findgcd(num1, num2)\n",
    "print(gcd)"
   ]
  },
  {
   "cell_type": "markdown",
   "metadata": {},
   "source": [
    "# 7 Գրել ծրագիր, որը կհաշվի, թե տրված string-ում յուրաքանչյուր բառը քանի անգամ է հանդիպել, և դրա հիման վրա կստեղծի dictionary\n"
   ]
  },
  {
   "cell_type": "code",
   "execution_count": 59,
   "metadata": {},
   "outputs": [
    {
     "name": "stdout",
     "output_type": "stream",
     "text": [
      "{'What': 1, 'is': 2, 'this': 1, 'book': 2, 'about?': 1, 'This': 1, 'about': 1, 'python': 1, 'coding': 1}\n"
     ]
    }
   ],
   "source": [
    "\n",
    "def word_count(str):\n",
    "    counts = dict()\n",
    "    words = str.split()\n",
    "\n",
    "    for word in words:\n",
    "        if word in counts:\n",
    "            counts[word] += 1\n",
    "        else:\n",
    "            counts[word] = 1\n",
    "\n",
    "    return counts\n",
    "\n",
    "print( word_count('What is this book about? This book is about python coding'))"
   ]
  },
  {
   "cell_type": "markdown",
   "metadata": {},
   "source": [
    "# 8 8. Տրված է լիստ, որում ներառված են 1-ից մինչև n բոլոր բնական թվերը՝ բացառությամբ մեկի: Գտնել որ էլեմենտն է բացակայում:\n"
   ]
  },
  {
   "cell_type": "code",
   "execution_count": 75,
   "metadata": {},
   "outputs": [
    {
     "name": "stdout",
     "output_type": "stream",
     "text": [
      "[15]\n"
     ]
    }
   ],
   "source": [
    "l=[10,11,12,13,14,16]\n",
    "lstart=l[0]\n",
    "lend=l[-1]\n",
    "x=sorted(range(lstart,lend+1))\n",
    "l_1=[]\n",
    "for i in x:\n",
    "    if i not in l:\n",
    "        l_1.append(i)\n",
    "print(l_1)"
   ]
  },
  {
   "cell_type": "code",
   "execution_count": null,
   "metadata": {},
   "outputs": [],
   "source": []
  }
 ],
 "metadata": {
  "kernelspec": {
   "display_name": "Python 3",
   "language": "python",
   "name": "python3"
  },
  "language_info": {
   "codemirror_mode": {
    "name": "ipython",
    "version": 3
   },
   "file_extension": ".py",
   "mimetype": "text/x-python",
   "name": "python",
   "nbconvert_exporter": "python",
   "pygments_lexer": "ipython3",
   "version": "3.7.4"
  }
 },
 "nbformat": 4,
 "nbformat_minor": 2
}
