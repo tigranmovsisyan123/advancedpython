{
 "cells": [
  {
   "cell_type": "markdown",
   "metadata": {},
   "source": [
    "## 1 - Գրել ֆունկցիա, որն ընդունում է string և շրջում է (reverse) միայն ձայնավորները. \n"
   ]
  },
  {
   "cell_type": "code",
   "execution_count": 3,
   "metadata": {},
   "outputs": [
    {
     "name": "stdout",
     "output_type": "stream",
     "text": [
      "amirEcA\n"
     ]
    }
   ],
   "source": [
    "def a(word):\n",
    "    vowels = \"aeiouAEIOU\"\n",
    "    string = list(word)\n",
    "    i = 0\n",
    "    j = len(word)-1\n",
    "    while i < j:\n",
    "        if string[i] not in vowels:\n",
    "            i += 1\n",
    "        elif string[j] not in vowels:\n",
    "            j -= 1\n",
    "        else:\n",
    "            string[i], string[j] = string[j], string[i]\n",
    "            i += 1\n",
    "            j -= 1\n",
    "    return \"\".join(string)\n",
    "print(a(\"AmErica\"))"
   ]
  },
  {
   "cell_type": "code",
   "execution_count": null,
   "metadata": {},
   "outputs": [],
   "source": [
    "#Տրված է string list, պետք է գտնել ընհանուր սիմվոլիների քանակը դրա էլեմենտներում\n",
    "???"
   ]
  },
  {
   "cell_type": "markdown",
   "metadata": {},
   "source": [
    "##  3Տրված է integer list: Պետք է գտնել ձախից առաջին էլեմենտը, որում ոչ մի թվանշան չի կրկնվում: Այդպիսի էլեմենտի բացակայության դեպքում ծրագիրը պետք է վերադարձնի -1 արժեք:\n"
   ]
  },
  {
   "cell_type": "code",
   "execution_count": 11,
   "metadata": {},
   "outputs": [
    {
     "name": "stdout",
     "output_type": "stream",
     "text": [
      "103\n"
     ]
    }
   ],
   "source": [
    "def myfunc(list1):\n",
    "    for x in list1:\n",
    "        if len(str(x)) == len(set(str(x))):\n",
    "            return x\n",
    "    return -1\n",
    "print(myfunc([101, 110, 220, 100, 103, 606, 603]))"
   ]
  },
  {
   "cell_type": "markdown",
   "metadata": {},
   "source": [
    "##  4Հաշվել տրված թվի ֆակտորիալը\n"
   ]
  },
  {
   "cell_type": "code",
   "execution_count": 37,
   "metadata": {},
   "outputs": [
    {
     "name": "stdout",
     "output_type": "stream",
     "text": [
      "factorial cant be negative\n"
     ]
    }
   ],
   "source": [
    "# Օգտագործելով loop\n",
    "def factorial(n):\n",
    "    factorial = 1\n",
    "    while n > 1:\n",
    "        factorial *= n\n",
    "        n -= 1\n",
    "    if n ==0:\n",
    "        return(\"1\")\n",
    "    if n<0:\n",
    "        return \"factorial cant be negative\"\n",
    "print(factorial(-1))"
   ]
  },
  {
   "cell_type": "code",
   "execution_count": 31,
   "metadata": {},
   "outputs": [
    {
     "name": "stdout",
     "output_type": "stream",
     "text": [
      "24\n"
     ]
    }
   ],
   "source": [
    "Օգտագործելով ռեկուրսիա\n",
    "def factorial(n):\n",
    "    if n == 0:\n",
    "        return 1\n",
    "    if n < 0:\n",
    "        return \"factorial cant be negative\"\n",
    "    return factorial(n - 1) * n\n",
    "\n",
    "print(factorial(4))"
   ]
  },
  {
   "cell_type": "markdown",
   "metadata": {},
   "source": [
    "## 5 Գտնել տրված թվից մեծ ամենափոքր թիմը, որը ինչ որ բնական թվի ֆակտորիալ է\n"
   ]
  },
  {
   "cell_type": "code",
   "execution_count": 55,
   "metadata": {},
   "outputs": [
    {
     "name": "stdout",
     "output_type": "stream",
     "text": [
      "24\n"
     ]
    }
   ],
   "source": [
    "\n",
    "def nearest_factorial(n):\n",
    "    i = 1\n",
    "    j = 2\n",
    "    while i<= n:\n",
    "        i*= j\n",
    "        j+= 1\n",
    "    return i\n",
    "\n",
    "print(nearest_factorial(10))"
   ]
  },
  {
   "cell_type": "markdown",
   "metadata": {},
   "source": [
    "## 6 Տրված է երկու string: Առաջին string-ի էլեմենտները դասավորել ըստ երկրորդ string-ում դրանց հանդիպելու հերթականության"
   ]
  },
  {
   "cell_type": "code",
   "execution_count": 57,
   "metadata": {},
   "outputs": [
    {
     "name": "stdout",
     "output_type": "stream",
     "text": [
      "bca\n"
     ]
    }
   ],
   "source": [
    "def order(str1, str2):\n",
    "    return \"\".join(sorted(str1, key=str2.index))\n",
    "\n",
    "\n",
    "print(order(\"abc\", \"befca\"))"
   ]
  },
  {
   "cell_type": "markdown",
   "metadata": {},
   "source": [
    "## 7 Տրված է երկու list: Ստուգել արդյոք դրանք շրջանաձև դասավորման դեպքում միմյանց համապատասխանում են, թե ոչ:\n"
   ]
  },
  {
   "cell_type": "code",
   "execution_count": 60,
   "metadata": {},
   "outputs": [
    {
     "name": "stdout",
     "output_type": "stream",
     "text": [
      "True\n",
      "True\n"
     ]
    }
   ],
   "source": [
    "\n",
    "def func1(list1, list2):\n",
    "    dif = len(list1) - len(list2)\n",
    "    if dif >= 0:\n",
    "        for i in range(dif):\n",
    "            if list1[i:i + len(list2)] == list2:\n",
    "                return True\n",
    "    return False\n",
    "\n",
    "\n",
    "def is_shifted(list1, list2):\n",
    "    return len(list1) == len(list2) and contains(list2 * 2, list1)\n",
    "\n",
    "\n",
    "print(is_shifted([1, 2, 3], [2, 3, 1]))\n",
    "print(is_shifted([1, 3, 4, 5, 2], [5, 2, 1, 3, 4]))\n"
   ]
  },
  {
   "cell_type": "markdown",
   "metadata": {},
   "source": [
    "## 8 Գրել ֆունկցիա, որը կվերադարձնի տրված list-ի երկրորդ ամենամեծ արժեքը (եթե գոյություն ունի), հակառակ դեպքում վերադարձնել 0.5:\n"
   ]
  },
  {
   "cell_type": "code",
   "execution_count": 1,
   "metadata": {},
   "outputs": [
    {
     "name": "stdout",
     "output_type": "stream",
     "text": [
      "0.5\n",
      "1\n"
     ]
    }
   ],
   "source": [
    "def secondmax(list1):  \n",
    "    largest = list1[0]\n",
    "    largest2 = None\n",
    "    for x in list1[1:]:      \n",
    "        if x > largest:  \n",
    "            largest2 = largest \n",
    "            largest = x  \n",
    "        elif (largest2 == None or x > largest2) and x < largest:  \n",
    "            largest2 = x  \n",
    "    if largest2 is not None:   \n",
    "        return largest2\n",
    "    return 0.5\n",
    "list2 = [1, 5, 5] \n",
    "list3 = [5, 5, 5]\n",
    "print(secondmax(list3))\n",
    "print (secondmax(list2))"
   ]
  },
  {
   "cell_type": "code",
   "execution_count": null,
   "metadata": {},
   "outputs": [],
   "source": []
  },
  {
   "cell_type": "code",
   "execution_count": null,
   "metadata": {},
   "outputs": [],
   "source": []
  }
 ],
 "metadata": {
  "kernelspec": {
   "display_name": "Python 3",
   "language": "python",
   "name": "python3"
  },
  "language_info": {
   "codemirror_mode": {
    "name": "ipython",
    "version": 3
   },
   "file_extension": ".py",
   "mimetype": "text/x-python",
   "name": "python",
   "nbconvert_exporter": "python",
   "pygments_lexer": "ipython3",
   "version": "3.7.4"
  }
 },
 "nbformat": 4,
 "nbformat_minor": 2
}
